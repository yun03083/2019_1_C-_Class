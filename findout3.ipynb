{
  "nbformat": 4,
  "nbformat_minor": 0,
  "metadata": {
    "colab": {
      "name": "findout3.ipynb",
      "provenance": [],
      "private_outputs": true,
      "collapsed_sections": [],
      "authorship_tag": "ABX9TyN4IpaQBgSDMQtKU3vaAZKe",
      "include_colab_link": true
    },
    "kernelspec": {
      "name": "python3",
      "display_name": "Python 3"
    }
  },
  "cells": [
    {
      "cell_type": "markdown",
      "metadata": {
        "id": "view-in-github",
        "colab_type": "text"
      },
      "source": [
        "<a href=\"https://colab.research.google.com/github/yun03083/2019_1_CdoublePlus_Class/blob/master/findout3.ipynb\" target=\"_parent\"><img src=\"https://colab.research.google.com/assets/colab-badge.svg\" alt=\"Open In Colab\"/></a>"
      ]
    },
    {
      "cell_type": "code",
      "metadata": {
        "id": "V6C4wf7izhOt",
        "colab_type": "code",
        "colab": {}
      },
      "source": [
        "!git clone https://github.com/monologg/KoELECTRA.git"
      ],
      "execution_count": null,
      "outputs": []
    },
    {
      "cell_type": "code",
      "metadata": {
        "id": "vPkP71OV0HjN",
        "colab_type": "code",
        "colab": {}
      },
      "source": [
        "cd KoELECTRA/"
      ],
      "execution_count": null,
      "outputs": []
    },
    {
      "cell_type": "code",
      "metadata": {
        "id": "m4ySwuU90KM6",
        "colab_type": "code",
        "colab": {}
      },
      "source": [
        "cd finetune/"
      ],
      "execution_count": null,
      "outputs": []
    },
    {
      "cell_type": "code",
      "metadata": {
        "id": "LntP16xu0MSk",
        "colab_type": "code",
        "colab": {}
      },
      "source": [
        "!pip install transformers==3.0.2"
      ],
      "execution_count": null,
      "outputs": []
    },
    {
      "cell_type": "code",
      "metadata": {
        "id": "sR7nnhYW0PWG",
        "colab_type": "code",
        "colab": {}
      },
      "source": [
        "!pip install seqeval"
      ],
      "execution_count": null,
      "outputs": []
    },
    {
      "cell_type": "code",
      "metadata": {
        "id": "yjkMGgLt0TuY",
        "colab_type": "code",
        "colab": {}
      },
      "source": [
        "!pip install attrdict"
      ],
      "execution_count": null,
      "outputs": []
    },
    {
      "cell_type": "code",
      "metadata": {
        "id": "eZDtvubb1UlW",
        "colab_type": "code",
        "colab": {}
      },
      "source": [
        "!python run_seq_cls.py --task nsmc --config_file koelectra-base.json"
      ],
      "execution_count": null,
      "outputs": []
    },
    {
      "cell_type": "code",
      "metadata": {
        "id": "mX7FHvys54aw",
        "colab_type": "code",
        "colab": {}
      },
      "source": [
        "!python run_seq_cls.py --task nsmc --config_file koelectra-base.json"
      ],
      "execution_count": null,
      "outputs": []
    }
  ]
}